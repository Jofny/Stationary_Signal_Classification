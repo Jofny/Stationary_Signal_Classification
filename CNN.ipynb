{
 "cells": [
  {
   "cell_type": "markdown",
   "id": "2d8f687c",
   "metadata": {},
   "source": [
    "# Importing necessary libraries"
   ]
  },
  {
   "cell_type": "code",
   "execution_count": 1,
   "id": "2d0ffa09",
   "metadata": {},
   "outputs": [],
   "source": [
    "import pandas as pd\n",
    "import numpy as np\n",
    "import os\n",
    "import gc\n",
    "import wget\n",
    "from sklearn.model_selection import train_test_split\n",
    "from sklearn.metrics import confusion_matrix\n",
    "%matplotlib inline\n",
    "import matplotlib.pyplot as plt\n",
    "import pickle\n",
    "from tensorflow import keras\n",
    "from keras.models import Sequential\n",
    "from keras.layers import Conv1D, MaxPooling1D, Flatten, Dense, Dropout"
   ]
  },
  {
   "cell_type": "markdown",
   "id": "1327cecf",
   "metadata": {},
   "source": [
    "# Creating and training binary classification model"
   ]
  },
  {
   "cell_type": "markdown",
   "id": "707c1a5f",
   "metadata": {},
   "source": [
    "Method loadDataFromDirectorySplit() is responsible for loading data, getting a class label from name of the file and spliting singals into smaller parts. Splitting data is the first preprocessing done in the project. While working on the \n",
    "solution I frequently stumbled upon OOM errors. Data was simply to big for my PC to be loaded at once. After some tries to compress the whole given signal, which gave poor results, I tried splitting signal into smaller pieces. It would decrease amount of memory needed to train the model but in order to use that solution I had to chceck if smaller parts are descriptive enough to use them in training the model."
   ]
  },
  {
   "cell_type": "code",
   "execution_count": 2,
   "id": "007ee9f6",
   "metadata": {},
   "outputs": [],
   "source": [
    "if not os.path.isdir('data.resistell.com'):\n",
    "    !wget -r --user=modelway --password=M0delWay! --reject=\"index.html\" https://data.resistell.com/model_way/ds_recruitment/\n",
    "    os.remove(\"data.resistell.com\\model_way\\ds_recruitment\\index.html.tmp\")"
   ]
  },
  {
   "cell_type": "code",
   "execution_count": 3,
   "id": "728f8661",
   "metadata": {},
   "outputs": [],
   "source": [
    "directory = 'data.resistell.com/model_way/ds_recruitment'\n",
    "def loadDataFromDirectorySplit(directory, class_index):\n",
    "    tmp_x = []\n",
    "    tmp_y = []\n",
    "    for filename in os.listdir(directory):\n",
    "        file = os.path.join(directory, filename)\n",
    "        with open(file, 'rb') as f:\n",
    "            tmp = pickle.load(f) # deserialize using load()\n",
    "            split_tmp = np.array_split(tmp, 128)\n",
    "            for n in range(0,128):\n",
    "                tmp_y.append(int(file[class_index]))\n",
    "            tmp_x.append(split_tmp)\n",
    "    return(tmp_x, tmp_y)"
   ]
  },
  {
   "cell_type": "markdown",
   "id": "b0f808fc",
   "metadata": {},
   "source": [
    "Method makeModel() creates architecture for convolutional neural network. I used CNN because of its ability to detect patterns and classify objects. It is most generally used for images but it can manage detecting patterns in 1D signals. That functionality is supported in keras library. The architecture is standard. Four convolutional layers are used, each with increasing number of filters in order to make them more and more specialised. After each layer model does pooling which should prevent overfitting. After last convolutional layer dropout is used to minimize overfitting. Nexty method Flatten() is used to tansform 3D to 1D tensor. Flattened tensor is given to two fully connected layers with increasing number of neurons. The output from second fully connected layer is given to a layer with only one neuron with sigmoid activation function. It is the recommended output layer for binary classification. All prevoius layers use ReLU activation function."
   ]
  },
  {
   "cell_type": "code",
   "execution_count": 4,
   "id": "f0c26c54",
   "metadata": {},
   "outputs": [],
   "source": [
    "def makeModel(input_shape):\n",
    "    \n",
    "    model = Sequential()\n",
    "    model.add(Conv1D(filters=32, kernel_size=3, activation=\"relu\", input_shape=input_shape))\n",
    "    model.add(MaxPooling1D(4))\n",
    "    model.add(Conv1D(filters=64, kernel_size=3, activation=\"relu\", input_shape=input_shape))\n",
    "    model.add(MaxPooling1D(4))\n",
    "    model.add(Conv1D(filters=96, kernel_size=3, activation=\"relu\", input_shape=input_shape))\n",
    "    model.add(MaxPooling1D(4))\n",
    "    model.add(Conv1D(filters=128, kernel_size=3, activation=\"relu\", input_shape=input_shape))\n",
    "    model.add(MaxPooling1D(4))\n",
    "    model.add(Dropout(0.3))\n",
    "    model.add(Flatten())\n",
    "    model.add(Dense(64, activation=\"relu\"))\n",
    "    model.add(Dense(128, activation=\"relu\"))\n",
    "    model.add(Dense(1, activation=\"sigmoid\"))\n",
    "    \n",
    "    return model"
   ]
  },
  {
   "cell_type": "code",
   "execution_count": 5,
   "id": "7a4b00cb",
   "metadata": {},
   "outputs": [],
   "source": [
    "data, classes = loadDataFromDirectorySplit(directory, 60)"
   ]
  },
  {
   "cell_type": "markdown",
   "id": "d0216b68",
   "metadata": {},
   "source": [
    "Method flatten() is used to change dimensions of split data. The output of data form 'loadDataFromDirectorySplit(directory)' is arranged like this:<br> \n",
    "[np.arr([...], ..., [...]), ..., np.arr([...], ..., [...])]<br>\n",
    "Preferable output should look as follows:<br>\n",
    "[[...], ..., [...]]<br>\n",
    "Method flatten() does exacly that. In short it is used to unnest inner arrays in a list. "
   ]
  },
  {
   "cell_type": "code",
   "execution_count": 6,
   "id": "0444e293",
   "metadata": {},
   "outputs": [],
   "source": [
    "def flatten(lst):\n",
    "    result = []\n",
    "    for item in lst:\n",
    "        if isinstance(item, list):\n",
    "            result.extend(flatten(item))\n",
    "        else:\n",
    "            result.append(item)\n",
    "    return result"
   ]
  },
  {
   "cell_type": "code",
   "execution_count": 7,
   "id": "af0d1b0d",
   "metadata": {},
   "outputs": [],
   "source": [
    "data = flatten(data)"
   ]
  },
  {
   "cell_type": "code",
   "execution_count": 8,
   "id": "37e0039c",
   "metadata": {},
   "outputs": [
    {
     "data": {
      "text/plain": [
       "12672"
      ]
     },
     "execution_count": 8,
     "metadata": {},
     "output_type": "execute_result"
    }
   ],
   "source": [
    "len(data)"
   ]
  },
  {
   "cell_type": "code",
   "execution_count": 9,
   "id": "9f94e8a9",
   "metadata": {},
   "outputs": [
    {
     "data": {
      "text/plain": [
       "array([-0.30123123, -0.98397377,  0.30727141, ..., -0.48290587,\n",
       "        4.13641472, -0.83893853])"
      ]
     },
     "execution_count": 9,
     "metadata": {},
     "output_type": "execute_result"
    }
   ],
   "source": [
    "data[0]"
   ]
  },
  {
   "cell_type": "code",
   "execution_count": 10,
   "id": "35e125b7",
   "metadata": {},
   "outputs": [
    {
     "data": {
      "text/plain": [
       "array([1.0000e+00, 2.0000e+00, 3.0000e+00, ..., 3.9998e+04, 3.9999e+04,\n",
       "       4.0000e+04])"
      ]
     },
     "execution_count": 10,
     "metadata": {},
     "output_type": "execute_result"
    }
   ],
   "source": [
    "lin_x = np.linspace(1, len(data[1]), num = len(data[1]))\n",
    "lin_x"
   ]
  },
  {
   "cell_type": "code",
   "execution_count": 11,
   "id": "ca480145",
   "metadata": {},
   "outputs": [
    {
     "data": {
      "image/png": "[encoded data removed]",
      "text/plain": [
       "<Figure size 432x288 with 1 Axes>"
      ]
     },
     "metadata": {
      "needs_background": "light"
     },
     "output_type": "display_data"
    }
   ],
   "source": [
    "plt.figure()\n",
    "plt.plot(lin_x[1:100], data[1][1:100], label = \"class 1\")\n",
    "plt.plot(lin_x[1:100], data[2][1:100], label = \"class 0\")\n",
    "plt.legend(loc=\"best\")\n",
    "plt.show()"
   ]
  },
  {
   "cell_type": "markdown",
   "id": "2bc648d8",
   "metadata": {},
   "source": [
    "As the next part of preprocessing, in the for loop below I standardize the data. It is a common practise to boost models effectivness. By scaling the features to have a similar range, it makes it easier for the model to learn the relevant patterns and relationships between the input features and the target variable."
   ]
  },
  {
   "cell_type": "code",
   "execution_count": 12,
   "id": "e9a59ba0",
   "metadata": {},
   "outputs": [],
   "source": [
    "for i, j in enumerate(data): \n",
    "    data[i] = (j - j.mean())/(j.std())"
   ]
  },
  {
   "cell_type": "markdown",
   "id": "d4fbcfc5",
   "metadata": {},
   "source": [
    "In the cell below I check if there are any NaNs in the signals. Fortunatly, there was no missing values so interpolation wasn't needed. Moreover, each signal has the same length so I didn't have to add values to shorter ones or cut inputs from longer ones."
   ]
  },
  {
   "cell_type": "code",
   "execution_count": 13,
   "id": "0e1ffa8d",
   "metadata": {},
   "outputs": [],
   "source": [
    "for i, j in enumerate(data):\n",
    "    if np.count_nonzero(np.isnan(j)) != 0:\n",
    "        print(\"There is a NaN in array number \" + str(i) + \" and there are \" + str(np.count_nonzero(np.isnan(j))))"
   ]
  },
  {
   "cell_type": "code",
   "execution_count": 14,
   "id": "588dd7c0",
   "metadata": {},
   "outputs": [],
   "source": [
    "data = np.array(data)\n",
    "classes = np.array(classes)\n",
    "data = data.reshape((data.shape[0], data.shape[1], 1))"
   ]
  },
  {
   "cell_type": "markdown",
   "id": "46848a55",
   "metadata": {},
   "source": [
    "I split data and classes into training and testing subsets. Training subset contains 80% and test subset contains 20% of data and classes arrays. "
   ]
  },
  {
   "cell_type": "code",
   "execution_count": 15,
   "id": "2f6860c2",
   "metadata": {},
   "outputs": [],
   "source": [
    "data_train, data_test, classes_train, classes_test = train_test_split(np.float16(data), classes, test_size=0.20, random_state=42)"
   ]
  },
  {
   "cell_type": "markdown",
   "id": "eef137b3",
   "metadata": {},
   "source": [
    "In the cell below I delete arrays containg data and classes and free up memory. They will not be used during training and as I stated before OOM errors are a common problem so the more memory I have to work with, the better."
   ]
  },
  {
   "cell_type": "code",
   "execution_count": 16,
   "id": "946102c1",
   "metadata": {},
   "outputs": [
    {
     "data": {
      "text/plain": [
       "3426"
      ]
     },
     "execution_count": 16,
     "metadata": {},
     "output_type": "execute_result"
    }
   ],
   "source": [
    "del data\n",
    "del classes\n",
    "gc.collect()"
   ]
  },
  {
   "cell_type": "code",
   "execution_count": 17,
   "id": "b5c18b3f",
   "metadata": {},
   "outputs": [],
   "source": [
    "model = makeModel(input_shape=data_train.shape[1:])"
   ]
  },
  {
   "cell_type": "markdown",
   "id": "b4367e59",
   "metadata": {},
   "source": [
    "Here I am preparing model and training it. I set epoch to 500 but due to early stopping it stops much earlier. As the optimizer I use \"adam\" which is a combination of two optimizers: RmSprop and momentum. RMSprop is an algorithm that adjusts the learning rate for each parameter based on the gradients of the recent past, and momentum is an algorithm that helps the optimizer to move quicker through the parameter space by adding a fraction of the previous update to the current update. By combining these two methods, Adam is able to adaptively adjust the learning rate for each parameter while also providing momentum to help the optimizer move quicker through the parameter space.<br>\n",
    "As the loss function I used \"binary_crossentropy\" which is standard for binary classification models. Metric is set to the simple accuracy.<br> \n",
    "Best model, based on value of loss function on the test subset, is stored on in a file called \"best_model.h5\". Later on, with method model.load() I can use the model to predict classes or evaluate model."
   ]
  },
  {
   "cell_type": "code",
   "execution_count": 18,
   "id": "ec8a88d2",
   "metadata": {
    "scrolled": false
   },
   "outputs": [
    {
     "name": "stdout",
     "output_type": "stream",
     "text": [
      "Epoch 1/500\n",
      "317/317 [==============================] - 21s 43ms/step - loss: 0.6641 - accuracy: 0.6159 - val_loss: 0.6343 - val_accuracy: 0.7030 - lr: 0.0010\n",
      "Epoch 2/500\n",
      "317/317 [==============================] - 12s 39ms/step - loss: 0.6002 - accuracy: 0.6953 - val_loss: 0.6652 - val_accuracy: 0.6454 - lr: 0.0010\n",
      "Epoch 3/500\n",
      "317/317 [==============================] - 12s 39ms/step - loss: 0.5635 - accuracy: 0.7330 - val_loss: 0.5958 - val_accuracy: 0.6828 - lr: 0.0010\n",
      "Epoch 4/500\n",
      "317/317 [==============================] - 12s 39ms/step - loss: 0.5064 - accuracy: 0.7645 - val_loss: 0.4351 - val_accuracy: 0.8170 - lr: 0.0010\n",
      "Epoch 5/500\n",
      "317/317 [==============================] - 13s 40ms/step - loss: 0.3544 - accuracy: 0.8407 - val_loss: 0.2859 - val_accuracy: 0.8761 - lr: 0.0010\n",
      "Epoch 6/500\n",
      "317/317 [==============================] - 13s 41ms/step - loss: 0.2900 - accuracy: 0.8736 - val_loss: 0.5926 - val_accuracy: 0.7045 - lr: 0.0010\n",
      "Epoch 7/500\n",
      "317/317 [==============================] - 13s 41ms/step - loss: 0.2489 - accuracy: 0.8915 - val_loss: 0.2616 - val_accuracy: 0.8809 - lr: 0.0010\n",
      "Epoch 8/500\n",
      "317/317 [==============================] - 13s 42ms/step - loss: 0.2673 - accuracy: 0.8771 - val_loss: 0.1981 - val_accuracy: 0.9140 - lr: 0.0010\n",
      "Epoch 9/500\n",
      "317/317 [==============================] - 13s 42ms/step - loss: 0.2094 - accuracy: 0.9100 - val_loss: 0.2863 - val_accuracy: 0.8718 - lr: 0.0010\n",
      "Epoch 10/500\n",
      "317/317 [==============================] - 13s 41ms/step - loss: 0.1796 - accuracy: 0.9218 - val_loss: 0.5209 - val_accuracy: 0.7921 - lr: 0.0010\n",
      "Epoch 11/500\n",
      "317/317 [==============================] - 13s 42ms/step - loss: 0.2012 - accuracy: 0.9153 - val_loss: 0.1827 - val_accuracy: 0.9250 - lr: 0.0010\n",
      "Epoch 12/500\n",
      "317/317 [==============================] - 13s 42ms/step - loss: 0.1679 - accuracy: 0.9303 - val_loss: 0.2529 - val_accuracy: 0.8939 - lr: 0.0010\n",
      "Epoch 13/500\n",
      "317/317 [==============================] - 14s 43ms/step - loss: 0.1518 - accuracy: 0.9408 - val_loss: 0.2566 - val_accuracy: 0.8895 - lr: 0.0010\n",
      "Epoch 14/500\n",
      "317/317 [==============================] - 14s 43ms/step - loss: 0.1540 - accuracy: 0.9367 - val_loss: 0.1991 - val_accuracy: 0.9108 - lr: 0.0010\n",
      "Epoch 15/500\n",
      "317/317 [==============================] - 13s 43ms/step - loss: 0.1283 - accuracy: 0.9478 - val_loss: 0.2588 - val_accuracy: 0.8892 - lr: 0.0010\n",
      "Epoch 16/500\n",
      "317/317 [==============================] - 14s 43ms/step - loss: 0.1308 - accuracy: 0.9468 - val_loss: 0.2289 - val_accuracy: 0.8998 - lr: 0.0010\n",
      "Epoch 17/500\n",
      "317/317 [==============================] - 14s 43ms/step - loss: 0.1038 - accuracy: 0.9579 - val_loss: 0.2207 - val_accuracy: 0.9053 - lr: 0.0010\n",
      "Epoch 18/500\n",
      "317/317 [==============================] - 14s 43ms/step - loss: 0.0927 - accuracy: 0.9618 - val_loss: 0.9097 - val_accuracy: 0.7456 - lr: 0.0010\n",
      "Epoch 19/500\n",
      "317/317 [==============================] - 14s 43ms/step - loss: 0.1286 - accuracy: 0.9493 - val_loss: 0.2242 - val_accuracy: 0.9073 - lr: 0.0010\n",
      "Epoch 20/500\n",
      "317/317 [==============================] - 14s 43ms/step - loss: 0.0935 - accuracy: 0.9649 - val_loss: 0.2535 - val_accuracy: 0.8935 - lr: 0.0010\n",
      "Epoch 21/500\n",
      "317/317 [==============================] - 13s 43ms/step - loss: 0.0755 - accuracy: 0.9705 - val_loss: 0.3188 - val_accuracy: 0.8722 - lr: 0.0010\n",
      "Epoch 22/500\n",
      "317/317 [==============================] - 13s 43ms/step - loss: 0.0601 - accuracy: 0.9779 - val_loss: 0.3005 - val_accuracy: 0.8947 - lr: 0.0010\n",
      "Epoch 23/500\n",
      "317/317 [==============================] - 13s 43ms/step - loss: 0.0791 - accuracy: 0.9717 - val_loss: 0.2754 - val_accuracy: 0.8974 - lr: 0.0010\n",
      "Epoch 24/500\n",
      "317/317 [==============================] - 14s 43ms/step - loss: 0.0460 - accuracy: 0.9839 - val_loss: 0.6747 - val_accuracy: 0.8367 - lr: 0.0010\n",
      "Epoch 25/500\n",
      "317/317 [==============================] - 13s 43ms/step - loss: 0.0910 - accuracy: 0.9658 - val_loss: 0.6556 - val_accuracy: 0.8241 - lr: 0.0010\n",
      "Epoch 26/500\n",
      "317/317 [==============================] - 14s 43ms/step - loss: 0.0748 - accuracy: 0.9738 - val_loss: 0.3267 - val_accuracy: 0.9002 - lr: 0.0010\n",
      "Epoch 27/500\n",
      "317/317 [==============================] - 14s 43ms/step - loss: 0.0663 - accuracy: 0.9751 - val_loss: 0.3253 - val_accuracy: 0.8852 - lr: 0.0010\n",
      "Epoch 28/500\n",
      "317/317 [==============================] - 14s 43ms/step - loss: 0.0788 - accuracy: 0.9717 - val_loss: 0.2968 - val_accuracy: 0.8876 - lr: 0.0010\n",
      "Epoch 29/500\n",
      "317/317 [==============================] - 14s 43ms/step - loss: 0.0288 - accuracy: 0.9901 - val_loss: 0.6546 - val_accuracy: 0.8536 - lr: 0.0010\n",
      "Epoch 30/500\n",
      "317/317 [==============================] - 14s 43ms/step - loss: 0.0372 - accuracy: 0.9873 - val_loss: 0.4506 - val_accuracy: 0.8671 - lr: 0.0010\n",
      "Epoch 31/500\n",
      "317/317 [==============================] - 13s 43ms/step - loss: 0.0518 - accuracy: 0.9808 - val_loss: 0.4461 - val_accuracy: 0.8682 - lr: 0.0010\n",
      "Epoch 32/500\n",
      "317/317 [==============================] - 13s 43ms/step - loss: 0.0226 - accuracy: 0.9922 - val_loss: 0.3826 - val_accuracy: 0.8868 - lr: 5.0000e-04\n",
      "Epoch 33/500\n",
      "317/317 [==============================] - 13s 43ms/step - loss: 0.0229 - accuracy: 0.9920 - val_loss: 0.3267 - val_accuracy: 0.9002 - lr: 5.0000e-04\n",
      "Epoch 34/500\n",
      "317/317 [==============================] - 13s 42ms/step - loss: 0.0110 - accuracy: 0.9963 - val_loss: 0.4251 - val_accuracy: 0.8911 - lr: 5.0000e-04\n",
      "Epoch 35/500\n",
      "317/317 [==============================] - 13s 43ms/step - loss: 0.0239 - accuracy: 0.9908 - val_loss: 0.3415 - val_accuracy: 0.8978 - lr: 5.0000e-04\n",
      "Epoch 36/500\n",
      "317/317 [==============================] - 14s 43ms/step - loss: 0.0211 - accuracy: 0.9927 - val_loss: 0.4204 - val_accuracy: 0.8915 - lr: 5.0000e-04\n",
      "Epoch 37/500\n",
      "317/317 [==============================] - 14s 43ms/step - loss: 0.0103 - accuracy: 0.9964 - val_loss: 0.3841 - val_accuracy: 0.8935 - lr: 5.0000e-04\n",
      "Epoch 38/500\n",
      "317/317 [==============================] - 14s 43ms/step - loss: 0.0315 - accuracy: 0.9911 - val_loss: 0.3190 - val_accuracy: 0.8986 - lr: 5.0000e-04\n",
      "Epoch 39/500\n",
      "317/317 [==============================] - 14s 43ms/step - loss: 0.0148 - accuracy: 0.9950 - val_loss: 0.3973 - val_accuracy: 0.8888 - lr: 5.0000e-04\n",
      "Epoch 40/500\n",
      "317/317 [==============================] - 14s 44ms/step - loss: 0.0132 - accuracy: 0.9950 - val_loss: 0.3910 - val_accuracy: 0.9014 - lr: 5.0000e-04\n",
      "Epoch 41/500\n",
      "317/317 [==============================] - 14s 44ms/step - loss: 0.0594 - accuracy: 0.9830 - val_loss: 0.3182 - val_accuracy: 0.8955 - lr: 5.0000e-04\n",
      "Epoch 42/500\n",
      "317/317 [==============================] - 14s 44ms/step - loss: 0.0065 - accuracy: 0.9983 - val_loss: 0.3782 - val_accuracy: 0.9022 - lr: 5.0000e-04\n",
      "Epoch 43/500\n",
      "317/317 [==============================] - 14s 43ms/step - loss: 0.0272 - accuracy: 0.9915 - val_loss: 0.3579 - val_accuracy: 0.8927 - lr: 5.0000e-04\n",
      "Epoch 44/500\n",
      "317/317 [==============================] - 14s 43ms/step - loss: 0.0159 - accuracy: 0.9947 - val_loss: 0.7534 - val_accuracy: 0.8477 - lr: 5.0000e-04\n",
      "Epoch 45/500\n",
      "317/317 [==============================] - 14s 43ms/step - loss: 0.0176 - accuracy: 0.9945 - val_loss: 0.4456 - val_accuracy: 0.8864 - lr: 5.0000e-04\n",
      "Epoch 46/500\n",
      "317/317 [==============================] - 14s 43ms/step - loss: 0.0226 - accuracy: 0.9918 - val_loss: 0.5595 - val_accuracy: 0.8600 - lr: 5.0000e-04\n",
      "Epoch 47/500\n",
      "317/317 [==============================] - 14s 43ms/step - loss: 0.0213 - accuracy: 0.9929 - val_loss: 0.3884 - val_accuracy: 0.8880 - lr: 5.0000e-04\n",
      "Epoch 48/500\n",
      "317/317 [==============================] - 14s 43ms/step - loss: 0.0180 - accuracy: 0.9939 - val_loss: 0.3356 - val_accuracy: 0.8927 - lr: 5.0000e-04\n",
      "Epoch 49/500\n",
      "317/317 [==============================] - 14s 43ms/step - loss: 0.0065 - accuracy: 0.9980 - val_loss: 0.3934 - val_accuracy: 0.8919 - lr: 5.0000e-04\n",
      "Epoch 50/500\n",
      "317/317 [==============================] - 14s 43ms/step - loss: 0.0328 - accuracy: 0.9888 - val_loss: 0.6877 - val_accuracy: 0.7957 - lr: 5.0000e-04\n",
      "Epoch 51/500\n",
      "317/317 [==============================] - 14s 43ms/step - loss: 0.0220 - accuracy: 0.9920 - val_loss: 0.4078 - val_accuracy: 0.8757 - lr: 5.0000e-04\n",
      "Epoch 52/500\n"
     ]
    },
    {
     "name": "stdout",
     "output_type": "stream",
     "text": [
      "317/317 [==============================] - 14s 44ms/step - loss: 0.0072 - accuracy: 0.9978 - val_loss: 0.3780 - val_accuracy: 0.8935 - lr: 2.5000e-04\n",
      "Epoch 53/500\n",
      "317/317 [==============================] - 14s 44ms/step - loss: 0.0061 - accuracy: 0.9974 - val_loss: 0.4077 - val_accuracy: 0.8955 - lr: 2.5000e-04\n",
      "Epoch 54/500\n",
      "317/317 [==============================] - 14s 44ms/step - loss: 0.0031 - accuracy: 0.9994 - val_loss: 0.5339 - val_accuracy: 0.8868 - lr: 2.5000e-04\n",
      "Epoch 55/500\n",
      "317/317 [==============================] - 14s 44ms/step - loss: 0.0060 - accuracy: 0.9979 - val_loss: 0.4539 - val_accuracy: 0.8966 - lr: 2.5000e-04\n",
      "Epoch 56/500\n",
      "317/317 [==============================] - 14s 44ms/step - loss: 0.0066 - accuracy: 0.9980 - val_loss: 0.3935 - val_accuracy: 0.9014 - lr: 2.5000e-04\n",
      "Epoch 57/500\n",
      "317/317 [==============================] - 14s 43ms/step - loss: 0.0038 - accuracy: 0.9989 - val_loss: 0.4406 - val_accuracy: 0.8966 - lr: 2.5000e-04\n",
      "Epoch 58/500\n",
      "317/317 [==============================] - 14s 45ms/step - loss: 0.0016 - accuracy: 0.9995 - val_loss: 0.4918 - val_accuracy: 0.8951 - lr: 2.5000e-04\n",
      "Epoch 59/500\n",
      "317/317 [==============================] - 14s 44ms/step - loss: 0.0435 - accuracy: 0.9892 - val_loss: 0.3517 - val_accuracy: 0.8852 - lr: 2.5000e-04\n",
      "Epoch 60/500\n",
      "317/317 [==============================] - 14s 44ms/step - loss: 0.0031 - accuracy: 0.9997 - val_loss: 0.3883 - val_accuracy: 0.8911 - lr: 2.5000e-04\n",
      "Epoch 61/500\n",
      "317/317 [==============================] - 14s 44ms/step - loss: 0.0030 - accuracy: 0.9993 - val_loss: 0.4071 - val_accuracy: 0.8966 - lr: 2.5000e-04\n",
      "Epoch 61: early stopping\n"
     ]
    }
   ],
   "source": [
    "epochs = 500\n",
    "batch_size = 32\n",
    "\n",
    "callbacks = [\n",
    "    keras.callbacks.ModelCheckpoint(\n",
    "        \"best_model.h5\", save_best_only=True, monitor=\"val_loss\"\n",
    "    ),\n",
    "    keras.callbacks.ReduceLROnPlateau(\n",
    "        monitor=\"val_loss\", factor=0.5, patience=20, min_lr=0.0001\n",
    "    ),\n",
    "    keras.callbacks.EarlyStopping(monitor=\"val_loss\", patience=50, verbose=1),\n",
    "]\n",
    "model.compile(\n",
    "    optimizer=\"adam\",\n",
    "    loss=\"binary_crossentropy\",\n",
    "    metrics=[\"accuracy\"],\n",
    ")\n",
    "history = model.fit(\n",
    "    data_train,\n",
    "    classes_train,\n",
    "    batch_size=batch_size,\n",
    "    epochs=epochs,\n",
    "    callbacks=callbacks,\n",
    "    validation_data=(data_test, classes_test),\n",
    "    verbose=1,\n",
    ")"
   ]
  },
  {
   "cell_type": "code",
   "execution_count": 19,
   "id": "773dd072",
   "metadata": {},
   "outputs": [
    {
     "data": {
      "image/png": "[encoded data removed]",
      "text/plain": [
       "<Figure size 432x288 with 1 Axes>"
      ]
     },
     "metadata": {
      "needs_background": "light"
     },
     "output_type": "display_data"
    }
   ],
   "source": [
    "metric = \"accuracy\"\n",
    "plt.figure()\n",
    "plt.plot(history.history[metric])\n",
    "plt.plot(history.history[\"val_\" + metric])\n",
    "plt.title(\"model \" + metric)\n",
    "plt.ylabel(metric, fontsize=\"large\")\n",
    "plt.xlabel(\"epoch\", fontsize=\"large\")\n",
    "plt.legend([\"train\", \"val\"], loc=\"best\")\n",
    "plt.show()\n",
    "plt.close()"
   ]
  },
  {
   "cell_type": "code",
   "execution_count": 20,
   "id": "87680039",
   "metadata": {
    "scrolled": true
   },
   "outputs": [
    {
     "name": "stdout",
     "output_type": "stream",
     "text": [
      "80/80 [==============================] - 1s 16ms/step - loss: 0.1827 - accuracy: 0.9250\n",
      "80/80 [==============================] - 1s 15ms/step\n",
      "Predictions [[0.9997545 ]\n",
      " [0.9993043 ]\n",
      " [0.9926434 ]\n",
      " ...\n",
      " [0.5230185 ]\n",
      " [0.6363239 ]\n",
      " [0.83377314]]\n",
      "Test accuracy 0.9250493049621582\n",
      "Test loss 0.1827186495065689\n"
     ]
    }
   ],
   "source": [
    "model = keras.models.load_model(\"best_model.h5\")\n",
    "\n",
    "test_loss, test_acc = model.evaluate(data_test, classes_test, batch_size=32)\n",
    "pred_test= model.predict(data_test, batch_size=32)\n",
    "print(\"Predictions\", pred_test)\n",
    "print(\"Test accuracy\", test_acc)\n",
    "print(\"Test loss\", test_loss)"
   ]
  },
  {
   "cell_type": "code",
   "execution_count": 21,
   "id": "273de25f",
   "metadata": {},
   "outputs": [
    {
     "name": "stdout",
     "output_type": "stream",
     "text": [
      "2535 2535\n"
     ]
    },
    {
     "data": {
      "text/plain": [
       "array([[1154,  110],\n",
       "       [  80, 1191]], dtype=int64)"
      ]
     },
     "execution_count": 21,
     "metadata": {},
     "output_type": "execute_result"
    }
   ],
   "source": [
    "ttt = (pred_test > 0.5).astype(int).reshape(1,-1)\n",
    "print(len(ttt[0]), len(classes_test))\n",
    "confusion_matrix(ttt[0], np.array(classes_test))"
   ]
  },
  {
   "cell_type": "markdown",
   "id": "690cea16",
   "metadata": {},
   "source": [
    "In the cells above one can see that model is very accurate. Best model has accuracy of around 93% which is very high. Important thing to remember is that model created in this project is classifing only small parts of the signal. I can use that information to my advantage and boost accuracy even more. If I load data, split it into smaller pieces and make prediction on them using pretrained model I can then combine predictions for each part together, check which class appears more often and then label the whole signal as that class. In method makePrediction() I did exacly that. Method takes in two lists, data and classes, and a path to the file with the model. Method makePrediction() splits the data, multiplies classes so they will match split data, standardizes the data and makes predictions with the loaded model. The output of the method is the array of predicted classes for each signal in the input."
   ]
  },
  {
   "cell_type": "code",
   "execution_count": 22,
   "id": "27d6f26a",
   "metadata": {},
   "outputs": [],
   "source": [
    "def loadDataFromDirectory(directory, class_index):\n",
    "    tmp_x = []\n",
    "    tmp_y = []\n",
    "    for filename in os.listdir(directory):\n",
    "        file = os.path.join(directory, filename)\n",
    "        with open(file, 'rb') as f:\n",
    "            tmp = pickle.load(f) # deserialize using load()\n",
    "            tmp_y.append(int(file[class_index]))\n",
    "            tmp_x.append(tmp)\n",
    "    return(tmp_x, tmp_y)"
   ]
  },
  {
   "cell_type": "code",
   "execution_count": 23,
   "id": "1a527bd9",
   "metadata": {},
   "outputs": [],
   "source": [
    "data_t, classes_t = loadDataFromDirectory(directory, 60)"
   ]
  },
  {
   "cell_type": "code",
   "execution_count": 24,
   "id": "ad81e33d",
   "metadata": {},
   "outputs": [],
   "source": [
    "def makePrediction(data, classes, path_to_model):\n",
    "    result = []\n",
    "    split_data = []\n",
    "    multiplied_classes = []\n",
    "    length = len(data)\n",
    "    \n",
    "    if length != len(classes):\n",
    "        print(\"Dimensions of data and classes don't match!\")\n",
    "        return -1\n",
    "    \n",
    "    for i in range(0, length):\n",
    "        split_data.append(np.array_split(data[i], 128))\n",
    "        for n in range(0,128):\n",
    "                multiplied_classes.append(int(classes[i]))\n",
    "    \n",
    "    \n",
    "    split_data = flatten(split_data)\n",
    "    for i, j in enumerate(split_data):\n",
    "        split_data[i] = (j - j.mean())/(j.std())\n",
    "    split_data = np.array(split_data)\n",
    "    multiplied_classes = np.array(multiplied_classes)\n",
    "    split_data = split_data.reshape((split_data.shape[0], split_data.shape[1], 1))\n",
    "    model = keras.models.load_model(path_to_model)\n",
    "    loss, acc = model.evaluate(split_data, multiplied_classes, batch_size=32)\n",
    "    prediction = model.predict(split_data, batch_size=32)\n",
    "    prediction = (prediction > 0.5).astype(int)\n",
    "    print(acc, loss)\n",
    "\n",
    "    for i in range(0, length*128, 128):\n",
    "        count_1 = np.count_nonzero(prediction[i:i+128] == 1)\n",
    "        count_0 =  128 - np.count_nonzero(prediction[i:i+128])\n",
    "        if (count_0 >= count_1):\n",
    "            result.append(0)\n",
    "        else:\n",
    "            result.append(1)\n",
    "            \n",
    "    return result"
   ]
  },
  {
   "cell_type": "code",
   "execution_count": 25,
   "id": "b666926c",
   "metadata": {},
   "outputs": [
    {
     "name": "stdout",
     "output_type": "stream",
     "text": [
      "80/80 [==============================] - 2s 16ms/step - loss: 0.1375 - accuracy: 0.9430\n",
      "80/80 [==============================] - 1s 16ms/step\n",
      "0.9429687261581421 0.1374693512916565\n"
     ]
    }
   ],
   "source": [
    "prediction = makePrediction(data_t[0:20], classes_t[0:20], \"best_model.h5\")"
   ]
  },
  {
   "cell_type": "code",
   "execution_count": 26,
   "id": "7433070f",
   "metadata": {},
   "outputs": [
    {
     "data": {
      "text/plain": [
       "[1, 1, 0, 0, 1, 0, 0, 0, 0, 0, 0, 1, 1, 1, 1, 0, 0, 0, 1, 1]"
      ]
     },
     "execution_count": 26,
     "metadata": {},
     "output_type": "execute_result"
    }
   ],
   "source": [
    "classes_t[0:20]"
   ]
  },
  {
   "cell_type": "code",
   "execution_count": 27,
   "id": "39e87ba0",
   "metadata": {},
   "outputs": [
    {
     "data": {
      "text/plain": [
       "[1, 1, 0, 0, 1, 0, 0, 0, 0, 0, 0, 1, 1, 1, 1, 0, 0, 0, 1, 1]"
      ]
     },
     "execution_count": 27,
     "metadata": {},
     "output_type": "execute_result"
    }
   ],
   "source": [
    "prediction"
   ]
  },
  {
   "cell_type": "code",
   "execution_count": 28,
   "id": "b5d87d26",
   "metadata": {},
   "outputs": [
    {
     "data": {
      "text/plain": [
       "array([[11,  0],\n",
       "       [ 0,  9]], dtype=int64)"
      ]
     },
     "execution_count": 28,
     "metadata": {},
     "output_type": "execute_result"
    }
   ],
   "source": [
    "confusion_matrix(prediction, classes_t[0:20])"
   ]
  },
  {
   "cell_type": "markdown",
   "id": "48124058",
   "metadata": {},
   "source": [
    "As presented in the confusion matrix above predictions made by makePrediction() are in 100% accurate. Let's try again but with different data."
   ]
  },
  {
   "cell_type": "code",
   "execution_count": 29,
   "id": "9460d31f",
   "metadata": {},
   "outputs": [
    {
     "name": "stdout",
     "output_type": "stream",
     "text": [
      "160/160 [==============================] - 3s 17ms/step - loss: 0.0935 - accuracy: 0.9805\n",
      "160/160 [==============================] - 3s 17ms/step\n",
      "0.98046875 0.0934896245598793\n"
     ]
    }
   ],
   "source": [
    "prediction1 = makePrediction(data_t[20:60], classes_t[20:60], \"best_model.h5\")"
   ]
  },
  {
   "cell_type": "code",
   "execution_count": 30,
   "id": "5ae5d7cd",
   "metadata": {},
   "outputs": [
    {
     "data": {
      "text/plain": [
       "array([[22,  0],\n",
       "       [ 0, 18]], dtype=int64)"
      ]
     },
     "execution_count": 30,
     "metadata": {},
     "output_type": "execute_result"
    }
   ],
   "source": [
    "confusion_matrix(prediction1, classes_t[20:60])"
   ]
  },
  {
   "cell_type": "markdown",
   "id": "b9038061",
   "metadata": {},
   "source": [
    "Here model is 100% accurate. As it presented above soltion is very accurate and can classify signals with great accuracy."
   ]
  }
 ],
 "metadata": {
  "kernelspec": {
   "display_name": "Python 3 (ipykernel)",
   "language": "python",
   "name": "python3"
  },
  "language_info": {
   "codemirror_mode": {
    "name": "ipython",
    "version": 3
   },
   "file_extension": ".py",
   "mimetype": "text/x-python",
   "name": "python",
   "nbconvert_exporter": "python",
   "pygments_lexer": "ipython3",
   "version": "3.11.5"
  }
 },
 "nbformat": 4,
 "nbformat_minor": 5
}
